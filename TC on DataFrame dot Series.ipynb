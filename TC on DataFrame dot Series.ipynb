{
 "cells": [
  {
   "cell_type": "code",
   "execution_count": 23,
   "metadata": {},
   "outputs": [
    {
     "name": "stdout",
     "output_type": "stream",
     "text": [
      "B :  2 (3, 3) <class 'pandas.core.frame.DataFrame'> \n",
      "    risk_factor_zero  risk_factor_one     alpha\n",
      "A          0.009675         0.018584 -1.224750\n",
      "B          0.019312         0.999638  0.000000\n",
      "C          0.999767        -0.019490  1.224745\n",
      "h :  1 (3,) <class 'pandas.core.series.Series'> \n",
      " A         0\n",
      "B   -500000\n",
      "C    500000\n",
      "dtype: int64\n"
     ]
    }
   ],
   "source": [
    "import numpy as np\n",
    "import pandas as pd\n",
    "\n",
    "B = [[0.009675, 0.018584, -1.22475],\n",
    "     [0.019312, 0.999638, 0.0],\n",
    "     [0.999767, -0.01949, 1.224745]]\n",
    "\n",
    "B = pd.DataFrame(B, columns=['risk_factor_zero',\n",
    "                             'risk_factor_one',\n",
    "                             'alpha'],\n",
    "                 index=['A', 'B', 'C'])\n",
    "#  B = B.drop(['alpha'], axis=1)\n",
    "\n",
    "h = pd.Series({'A': 0, 'B': -500000, 'C':500000})\n",
    "\n",
    "print('B : ', B.ndim, B.shape, type(B), '\\n', B)\n",
    "print('h : ', h.ndim, h.shape, type(h), '\\n', h)"
   ]
  },
  {
   "cell_type": "code",
   "execution_count": 24,
   "metadata": {},
   "outputs": [
    {
     "data": {
      "text/plain": [
       "risk_factor_zero    490227.5\n",
       "risk_factor_one    -509564.0\n",
       "alpha               612372.5\n",
       "dtype: float64"
      ]
     },
     "execution_count": 24,
     "metadata": {},
     "output_type": "execute_result"
    }
   ],
   "source": [
    "E = B.T.dot(h)\n",
    "E"
   ]
  },
  {
   "cell_type": "code",
   "execution_count": 25,
   "metadata": {},
   "outputs": [
    {
     "data": {
      "text/plain": [
       "612372.5"
      ]
     },
     "execution_count": 25,
     "metadata": {},
     "output_type": "execute_result"
    }
   ],
   "source": [
    "E['alpha']"
   ]
  },
  {
   "cell_type": "code",
   "execution_count": null,
   "metadata": {},
   "outputs": [],
   "source": []
  }
 ],
 "metadata": {
  "kernelspec": {
   "display_name": "Python 3",
   "language": "python",
   "name": "python3"
  },
  "language_info": {
   "codemirror_mode": {
    "name": "ipython",
    "version": 3
   },
   "file_extension": ".py",
   "mimetype": "text/x-python",
   "name": "python",
   "nbconvert_exporter": "python",
   "pygments_lexer": "ipython3",
   "version": "3.6.5"
  }
 },
 "nbformat": 4,
 "nbformat_minor": 2
}
